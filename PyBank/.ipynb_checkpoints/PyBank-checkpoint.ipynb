{
 "cells": [
  {
   "cell_type": "code",
   "execution_count": 163,
   "metadata": {},
   "outputs": [],
   "source": [
    "import os \n",
    "import csv"
   ]
  },
  {
   "cell_type": "code",
   "execution_count": 164,
   "metadata": {},
   "outputs": [],
   "source": [
    "# location of the budget file\n",
    "csvpath = os.path.join(\"..\", \"Resources\", \"budget_data.csv\")"
   ]
  },
  {
   "cell_type": "code",
   "execution_count": 165,
   "metadata": {},
   "outputs": [],
   "source": [
    "months = []\n",
    "months_revenue = []\n",
    "total_revenue = 0\n",
    "\n",
    "greatest_increase = 0\n",
    "greatest_decrease = 0\n",
    "increase_month = 0\n",
    "decrease_month = 0"
   ]
  },
  {
   "cell_type": "code",
   "execution_count": 166,
   "metadata": {},
   "outputs": [],
   "source": [
    "with open(csvpath, \"r\") as infile:\n",
    "    csv_reader = csv.reader(infile, delimiter=\",\")\n",
    "    csv_header = next(csv_reader)\n",
    "    for month,revenue in csv_reader:\n",
    "        months.append(month)\n",
    "        months_revenue.append(revenue)"
   ]
  },
  {
   "cell_type": "code",
   "execution_count": 167,
   "metadata": {},
   "outputs": [],
   "source": [
    "counter = 0\n",
    "for revenue in months_revenue:\n",
    "    if counter == 0:\n",
    "        greatest_increase = revenue\n",
    "        greatest_decrease = revenue\n",
    "    else :\n",
    "        if revenue > greatest_increase:\n",
    "            greatest_increase = revenue\n",
    "            increase_month = counter\n",
    "            \n",
    "        if revenue < greatest_decrease:\n",
    "            greatest_decrease = revenue\n",
    "            decrease_month = counter\n",
    "    counter += 1\n",
    "    total_revenue += int(revenue)"
   ]
  },
  {
   "cell_type": "code",
   "execution_count": 168,
   "metadata": {},
   "outputs": [],
   "source": [
    "average_revenue = total_revenue / len(months)"
   ]
  },
  {
   "cell_type": "code",
   "execution_count": 169,
   "metadata": {},
   "outputs": [],
   "source": [
    "text_output = (f\"\"\"\n",
    "Financial Analysis\n",
    "-----------------------\n",
    "Total Months: {len(months)}\n",
    "Total: ${total_revenue}\n",
    "Average Change: {average_revenue}\n",
    "Greatest Increase in Profits: {months[increase_month]} ${greatest_increase}\n",
    "Greatest Decrease in Profits: {months[decrease_month]} ${greatest_decrease}\n",
    "\"\"\")"
   ]
  },
  {
   "cell_type": "code",
   "execution_count": 170,
   "metadata": {},
   "outputs": [
    {
     "name": "stdout",
     "output_type": "stream",
     "text": [
      "\n",
      "Financial Analysis\n",
      "-----------------------\n",
      "Total Months: 86\n",
      "Total: $38382578\n",
      "Average Change: 446309.0465116279\n",
      "Greatest Increase in Profits: Aug-2013 $999942\n",
      "Greatest Decrease in Profits: Aug-2012 $-1022534\n",
      "\n"
     ]
    }
   ],
   "source": [
    "print(text_output)"
   ]
  },
  {
   "cell_type": "code",
   "execution_count": 171,
   "metadata": {},
   "outputs": [],
   "source": [
    "outputfile = \"budget.txt\"\n",
    "\n",
    "with open(outputfile, \"w\", newline=\"\") as datafile:\n",
    "    datafile.write(text_output)"
   ]
  },
  {
   "cell_type": "code",
   "execution_count": null,
   "metadata": {},
   "outputs": [],
   "source": []
  }
 ],
 "metadata": {
  "kernelspec": {
   "display_name": "Conda [PythonData]",
   "language": "python",
   "name": "pythondata"
  },
  "language_info": {
   "codemirror_mode": {
    "name": "ipython",
    "version": 3
   },
   "file_extension": ".py",
   "mimetype": "text/x-python",
   "name": "python",
   "nbconvert_exporter": "python",
   "pygments_lexer": "ipython3",
   "version": "3.7.3"
  }
 },
 "nbformat": 4,
 "nbformat_minor": 2
}
